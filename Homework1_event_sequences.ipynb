{
 "cells": [
  {
   "cell_type": "markdown",
   "metadata": {
    "id": "1irM4u2L_1R7",
    "pycharm": {
     "name": "#%% md\n"
    }
   },
   "source": [
    "# Домашнее задание I"
   ]
  },
  {
   "cell_type": "markdown",
   "metadata": {
    "id": "ezXsmCfB_4kp",
    "pycharm": {
     "name": "#%% md\n"
    }
   },
   "source": [
    "В этом домашнем задании вы будете генерировать синтетические точечные процессы и анализировать реальные наборы данных. \n",
    "\n",
    "Максимальное количетсво баллов - 25, проходной балл - 10."
   ]
  },
  {
   "cell_type": "markdown",
   "metadata": {
    "id": "4pCvJkBigftH",
    "pycharm": {
     "name": "#%% md\n"
    }
   },
   "source": [
    "На что можно опереться:\n",
    "- Семинары\n",
    "- https://www.math.fsu.edu/~ychen/research/Thinning%20algorithm.pdf"
   ]
  },
  {
   "cell_type": "markdown",
   "metadata": {
    "id": "qdCJMVIUANG_",
    "pycharm": {
     "name": "#%% md\n"
    }
   },
   "source": [
    "## Задание 1 (15 баллов)"
   ]
  },
  {
   "cell_type": "markdown",
   "metadata": {
    "id": "84M8Z7BFA27N",
    "pycharm": {
     "name": "#%% md\n"
    }
   },
   "source": [
    "- Создайте набор данных гомогенного процесса Пуассона с $\\lambda_c = 10/(c+1)$, где $c\\in\\{0,1,2,3,4\\}$ — тип события. Максимальное время $T = 10$. Вы можете сделать это вручную или с помощью библиотеки тиков.\n",
    "\n",
    "- Создайте набор данных неоднородного процесса Пуассона с $\\lambda_c(t) = 10 e^{-\\frac{0.2}{c+1}t} (1+sin(5t))/(c+1)$ , где $c \\in\\{0,1,2,3,4\\}$ — тип события. Максимальное время $T = 10$. Вы можете сделать это вручную или с помощью библиотеки тиков.\n",
    "\n",
    "- Сгенерируйте процесс Хоукса с 5 типами событий $c\\in\\{0,1,2,3,4\\}$ и максимальным временем $T=10$:\n",
    "   - Базовая интенсивность: $\\mu_{c} = \\frac{5}{c+1}$\n",
    "   - Ядра:\n",
    "    - $\\phi_{0,j} = 0.1^j((j + 0.1) * 10 + t)^{-2^{1/(j+1)}}$\n",
    "    - $i \\in \\{1,2,3\\}$: $\\phi_{i,j} = \\sum_{d = 1}^{3} 0.1^{i+j+d} 2^{d/(j+1)}\\exp(-2^{d/(j+1)} t)$\n",
    "    - $j\\in\\{0,1,2,3\\}$: $\\phi_{4,j} = 0.5^{1/(j+1)}*(1+sin(5^{1/(j+1)}t))$\n",
    "    - $\\phi_{4,4} = 0$\n",
    "\n",
    "Создайте 2000 последовательностей в каждом наборе данных. Используйте следующие переменные: ```h_poisson_dset```, ```i_poisson_dset```, ```hawkes_dset```."
   ]
  },
  {
   "cell_type": "markdown",
   "metadata": {
    "id": "OGnuj35gE2uE",
    "pycharm": {
     "name": "#%% md\n"
    }
   },
   "source": [
    "### Ваше решение "
   ]
  },
  {
   "cell_type": "markdown",
   "metadata": {
    "id": "5K3fKO48Fh5o",
    "pycharm": {
     "name": "#%% md\n"
    }
   },
   "source": [
    "Похожие задачи были решены в семинаре 1. Обратите внимание, что сгенерить последовательность с несколькими типами событий эквивалентно тому, чтобы сгенерить событие с интенсивность $\\lambda = \\sum_c \\lambda_c$ и выбрать его тип с вероятностями $\\lambda_c/\\lambda$."
   ]
  },
  {
   "cell_type": "markdown",
   "metadata": {
    "id": "xA7hm_nVfaEX",
    "pycharm": {
     "name": "#%% md\n"
    }
   },
   "source": [
    "## Загрузка реальных данных"
   ]
  },
  {
   "cell_type": "markdown",
   "metadata": {
    "id": "0EeLs1cEf7ty",
    "pycharm": {
     "name": "#%% md\n"
    }
   },
   "source": [
    "### Набор данных ретвитов"
   ]
  },
  {
   "cell_type": "markdown",
   "metadata": {
    "id": "XiOsmMfVjRWb",
    "pycharm": {
     "name": "#%% md\n"
    }
   },
   "source": [
    "Набор данных с историей ретвитов 3 категорий пользователей как тип события."
   ]
  },
  {
   "cell_type": "code",
   "execution_count": 3,
   "metadata": {
    "pycharm": {
     "name": "#%%\n"
    }
   },
   "outputs": [
    {
     "name": "stdout",
     "output_type": "stream",
     "text": [
      "Collecting googledrivedownloader\n",
      "  Downloading googledrivedownloader-0.4-py2.py3-none-any.whl (3.9 kB)\n",
      "Installing collected packages: googledrivedownloader\n",
      "Successfully installed googledrivedownloader-0.4\n"
     ]
    },
    {
     "name": "stderr",
     "output_type": "stream",
     "text": [
      "WARNING: You are using pip version 21.2.3; however, version 23.0.1 is available.\n",
      "You should consider upgrading via the 'C:\\Users\\Vladislav\\AppData\\Local\\Programs\\Python\\Python39\\python.exe -m pip install --upgrade pip' command.\n"
     ]
    }
   ],
   "source": [
    "!pip install googledrivedownloader"
   ]
  },
  {
   "cell_type": "code",
   "execution_count": 4,
   "metadata": {
    "colab": {
     "base_uri": "https://localhost:8080/"
    },
    "id": "H1AaZeyxYvRx",
    "outputId": "b0040fe5-d29a-40aa-c58c-b05439eb7e91",
    "pycharm": {
     "name": "#%%\n"
    }
   },
   "outputs": [
    {
     "name": "stdout",
     "output_type": "stream",
     "text": [
      "Downloading 1q1VUY3VTmaZqT8VjWY5hKrSx8v9tZbt7 into ./train_tick.pkl... Done.\n"
     ]
    }
   ],
   "source": [
    "from google_drive_downloader import GoogleDriveDownloader as gdd\n",
    "\n",
    "gdd.download_file_from_google_drive(file_id='1q1VUY3VTmaZqT8VjWY5hKrSx8v9tZbt7',\n",
    "                                    dest_path='./train_tick.pkl')"
   ]
  },
  {
   "cell_type": "code",
   "execution_count": 5,
   "metadata": {
    "colab": {
     "base_uri": "https://localhost:8080/"
    },
    "id": "xvaGjuBbgFZT",
    "outputId": "3d9cb182-edf4-4766-b9f5-834db50b02a3",
    "pycharm": {
     "name": "#%%\n"
    }
   },
   "outputs": [
    {
     "name": "stdout",
     "output_type": "stream",
     "text": [
      "Collecting pickle-mixin\n",
      "  Downloading pickle-mixin-1.0.2.tar.gz (5.1 kB)\n",
      "Building wheels for collected packages: pickle-mixin\n",
      "  Building wheel for pickle-mixin (setup.py): started\n",
      "  Building wheel for pickle-mixin (setup.py): finished with status 'done'\n",
      "  Created wheel for pickle-mixin: filename=pickle_mixin-1.0.2-py3-none-any.whl size=6034 sha256=b911a2f3224d41769c74b69b05ff6f685835cabc558bb5ad41a720526c57c961\n",
      "  Stored in directory: c:\\users\\vladislav\\appdata\\local\\pip\\cache\\wheels\\58\\c6\\8b\\061bd4edc8cea2b2235758c3e50473d08499236fbfdd21e6b3\n",
      "Successfully built pickle-mixin\n",
      "Installing collected packages: pickle-mixin\n",
      "Successfully installed pickle-mixin-1.0.2\n"
     ]
    },
    {
     "name": "stderr",
     "output_type": "stream",
     "text": [
      "WARNING: You are using pip version 21.2.3; however, version 23.0.1 is available.\n",
      "You should consider upgrading via the 'C:\\Users\\Vladislav\\AppData\\Local\\Programs\\Python\\Python39\\python.exe -m pip install --upgrade pip' command.\n"
     ]
    }
   ],
   "source": [
    "!pip install pickle-mixin --upgrade"
   ]
  },
  {
   "cell_type": "code",
   "execution_count": 6,
   "metadata": {
    "id": "7C1rWxIOgGVt",
    "pycharm": {
     "name": "#%%\n"
    }
   },
   "outputs": [],
   "source": [
    "import pickle\n",
    "\n",
    "with open('./train_tick.pkl', 'rb') as f:\n",
    "  tweets_dset = pickle.load(f)"
   ]
  },
  {
   "cell_type": "markdown",
   "metadata": {
    "id": "IYYPXazXgrgi",
    "pycharm": {
     "name": "#%% md\n"
    }
   },
   "source": [
    "Количество типов событий:"
   ]
  },
  {
   "cell_type": "code",
   "execution_count": 7,
   "metadata": {
    "colab": {
     "base_uri": "https://localhost:8080/"
    },
    "id": "qlCpzqhGgf4x",
    "outputId": "67d3c9b8-456d-40c8-cd4a-a0653f195ef4",
    "pycharm": {
     "name": "#%%\n"
    }
   },
   "outputs": [
    {
     "name": "stdout",
     "output_type": "stream",
     "text": [
      "N types = 3\n"
     ]
    }
   ],
   "source": [
    "print('N types =', len(tweets_dset[0]))"
   ]
  },
  {
   "cell_type": "markdown",
   "metadata": {
    "id": "lhiVMQZ4g0BI",
    "pycharm": {
     "name": "#%% md\n"
    }
   },
   "source": [
    "Размер набора данных:"
   ]
  },
  {
   "cell_type": "code",
   "execution_count": null,
   "metadata": {
    "colab": {
     "base_uri": "https://localhost:8080/"
    },
    "id": "XwW-6x-FgywD",
    "outputId": "6be389ac-9d55-4750-95d4-1c2891022521",
    "pycharm": {
     "name": "#%%\n"
    }
   },
   "outputs": [
    {
     "data": {
      "text/plain": [
       "20000"
      ]
     },
     "execution_count": 80,
     "metadata": {},
     "output_type": "execute_result"
    }
   ],
   "source": [
    "len(tweets_dset)"
   ]
  },
  {
   "cell_type": "markdown",
   "metadata": {
    "id": "7FpPMkqEg8NZ",
    "pycharm": {
     "name": "#%% md\n"
    }
   },
   "source": [
    "### Amazon датасет"
   ]
  },
  {
   "cell_type": "markdown",
   "metadata": {
    "id": "rZQwrQ_BjdrF",
    "pycharm": {
     "name": "#%% md\n"
    }
   },
   "source": [
    "Набор данных Amazon с историей покупок. Типы событий — это категории продуктов."
   ]
  },
  {
   "cell_type": "code",
   "execution_count": null,
   "metadata": {
    "colab": {
     "base_uri": "https://localhost:8080/"
    },
    "id": "RRhsJJ_8g5H9",
    "outputId": "a6e8d42a-5e7b-4ae1-ad67-f21e3cf53422",
    "pycharm": {
     "name": "#%%\n"
    }
   },
   "outputs": [
    {
     "name": "stdout",
     "output_type": "stream",
     "text": [
      "Downloading 1nlp2wQAPrNHst7to0vkkz9uHyI4d1-xU into ./amz7k.zip... Done.\n"
     ]
    }
   ],
   "source": [
    "from google_drive_downloader import GoogleDriveDownloader as gdd\n",
    "\n",
    "gdd.download_file_from_google_drive(file_id='1nlp2wQAPrNHst7to0vkkz9uHyI4d1-xU',\n",
    "                                    dest_path='./amz7k.zip')"
   ]
  },
  {
   "cell_type": "code",
   "execution_count": null,
   "metadata": {
    "id": "YpA_C4IuhKrv",
    "pycharm": {
     "name": "#%%\n"
    }
   },
   "outputs": [],
   "source": [
    "!unzip amz7k.zip -d ."
   ]
  },
  {
   "cell_type": "code",
   "execution_count": null,
   "metadata": {
    "id": "cf4Xf6_5hMmz",
    "pycharm": {
     "name": "#%%\n"
    }
   },
   "outputs": [],
   "source": [
    "from typing import List\n",
    "import os\n",
    "import tqdm\n",
    "import torch\n",
    "import pandas as pd\n",
    "\n",
    "def load_data(\n",
    "    path_to_data: str,\n",
    "    n_types: int,\n",
    "    return_times = False\n",
    "    ) -> List[torch.Tensor]:\n",
    "    files = os.listdir(path_to_data)\n",
    "    seqs = []\n",
    "    if 'clusters.csv' in files:\n",
    "        files.remove('clusters.csv')\n",
    "    for i, f in tqdm.tqdm(enumerate(files)):\n",
    "        df = pd.read_csv(path_to_data + '/' + f)\n",
    "        df = df.sort_values(by=['time'])\n",
    "        seq = torch.zeros(len(df['time']), n_types + 1)\n",
    "        for id_, (time, event) in enumerate(zip(list(df['time']), list(df['event']))):\n",
    "            seq[id_,0] = time\n",
    "            seq[id_, int(event) + 1] = 1\n",
    "        if return_times:\n",
    "            seq[1:, 0] -= seq[:-1, 0]\n",
    "            seq[0, 0] = 0\n",
    "        else:\n",
    "            seq[:,0]-=seq[0,0].clone()\n",
    "        seq[:,0]/=86400 # the input is in unix time\n",
    "        seqs.append(seq)\n",
    "    return seqs"
   ]
  },
  {
   "cell_type": "code",
   "execution_count": null,
   "metadata": {
    "colab": {
     "base_uri": "https://localhost:8080/"
    },
    "id": "W5Z5cShWhSPC",
    "outputId": "a64d850b-9247-4e21-84bf-0547d0563cd3",
    "pycharm": {
     "name": "#%%\n"
    }
   },
   "outputs": [
    {
     "name": "stderr",
     "output_type": "stream",
     "text": [
      "7523it [00:41, 180.99it/s]\n"
     ]
    }
   ],
   "source": [
    "data = load_data('amz7k', 8)"
   ]
  },
  {
   "cell_type": "code",
   "execution_count": null,
   "metadata": {
    "colab": {
     "base_uri": "https://localhost:8080/"
    },
    "id": "TvDKgQpuhbFz",
    "outputId": "08ab11cd-37e0-4d4d-91f7-1008e699b4cf",
    "pycharm": {
     "name": "#%%\n"
    }
   },
   "outputs": [
    {
     "data": {
      "text/plain": [
       "torch.Size([192, 9])"
      ]
     },
     "execution_count": 85,
     "metadata": {},
     "output_type": "execute_result"
    }
   ],
   "source": [
    "data[0].shape"
   ]
  },
  {
   "cell_type": "code",
   "execution_count": null,
   "metadata": {
    "colab": {
     "base_uri": "https://localhost:8080/"
    },
    "id": "c1XSHbVthmd_",
    "outputId": "10e931dc-e739-4e05-b17c-8b831270385e",
    "pycharm": {
     "name": "#%%\n"
    }
   },
   "outputs": [
    {
     "name": "stdout",
     "output_type": "stream",
     "text": [
      "7523\n"
     ]
    }
   ],
   "source": [
    "n_types = 8\n",
    "N = len(data)\n",
    "print(N)"
   ]
  },
  {
   "cell_type": "code",
   "execution_count": null,
   "metadata": {
    "id": "-7DdvV28hr5j",
    "pycharm": {
     "name": "#%%\n"
    }
   },
   "outputs": [],
   "source": [
    "def torch_tensor_to_tick(data, n_types):\n",
    "  dset = []\n",
    "  for seq in data:\n",
    "    tick_seq = []\n",
    "    for i in range(n_types):\n",
    "      tick_seq.append(seq[seq[:,i+1] == 1, 0].numpy())\n",
    "    dset.append(tick_seq)\n",
    "  return dset\n"
   ]
  },
  {
   "cell_type": "code",
   "execution_count": null,
   "metadata": {
    "id": "SXTT_DyeiLG4",
    "pycharm": {
     "name": "#%%\n"
    }
   },
   "outputs": [],
   "source": [
    "amazon_dset = torch_tensor_to_tick(data, n_types)"
   ]
  },
  {
   "cell_type": "code",
   "execution_count": null,
   "metadata": {
    "colab": {
     "base_uri": "https://localhost:8080/"
    },
    "id": "v1WkmNFTiUYD",
    "outputId": "ccb10e6b-bbf7-4146-c86b-a4364beabb00",
    "pycharm": {
     "name": "#%%\n"
    }
   },
   "outputs": [
    {
     "data": {
      "text/plain": [
       "[array([ 816., 1439., 1440., 1661., 1749.], dtype=float32),\n",
       " array([   0.,   63.,   68.,  115.,  188.,  336.,  336.,  352.,  369.,\n",
       "         476.,  478.,  831.,  832.,  832.,  863.,  863.,  873.,  873.,\n",
       "         873.,  887.,  960.,  960.,  961.,  969.,  969., 1112., 1119.,\n",
       "        1134., 1136., 1265., 1279., 1285., 1285., 1304., 1305., 1305.],\n",
       "       dtype=float32),\n",
       " array([], dtype=float32),\n",
       " array([1095., 1121., 1122., 1168., 1203., 1326., 1551., 1572., 2101.,\n",
       "        2223., 2382.], dtype=float32),\n",
       " array([ 104.,  211.,  270.,  365.,  381.,  456.,  547.,  566.,  666.,\n",
       "         740.,  767.,  792.,  845.,  850.,  909.,  981.,  995.,  995.,\n",
       "         995.,  995., 1036., 1068., 1123., 1124., 1246., 1428., 1442.,\n",
       "        1468.], dtype=float32),\n",
       " array([], dtype=float32),\n",
       " array([  30.,  497.,  664.,  677.,  686.,  691.,  744.,  750.,  755.,\n",
       "         757.,  757.,  768.,  768.,  769.,  774.,  775.,  775.,  783.,\n",
       "         789.,  789.,  796.,  799.,  800.,  803.,  803.,  821.,  828.,\n",
       "         937.,  937.,  960., 1001., 1013., 1018., 1021., 1022., 1042.,\n",
       "        1080., 1090., 1111., 1119., 1123., 1127., 1139., 1143., 1143.,\n",
       "        1143., 1148., 1168., 1202., 1213., 1277., 1316., 1318., 1320.,\n",
       "        1327., 1424., 1454., 1545., 1632., 1641.], dtype=float32),\n",
       " array([ 617.,  678.,  712.,  712.,  798.,  798.,  805.,  809.,  816.,\n",
       "         818.,  822.,  853.,  853.,  862.,  879.,  889.,  889.,  920.,\n",
       "         981., 1018., 1018., 1018., 1058., 1074., 1113., 1126., 1126.,\n",
       "        1134., 1189., 1373., 1382., 1382., 1428., 1428., 1458., 1479.,\n",
       "        1484., 1517., 1537., 1540., 1676., 1732., 1890., 1905., 1905.,\n",
       "        1906., 1907., 2041., 2056., 2076., 2076., 2076.], dtype=float32)]"
      ]
     },
     "execution_count": 89,
     "metadata": {},
     "output_type": "execute_result"
    }
   ],
   "source": [
    "amazon_dset[0]"
   ]
  },
  {
   "cell_type": "markdown",
   "metadata": {
    "id": "-us-0Uzhi2vB",
    "pycharm": {
     "name": "#%% md\n"
    }
   },
   "source": [
    "## Вопрос"
   ]
  },
  {
   "cell_type": "markdown",
   "metadata": {
    "id": "2Y__ZE6Fi4eN",
    "pycharm": {
     "name": "#%% md\n"
    }
   },
   "source": [
    "Какого поведения вы ожидаете от ретвитов и наборов данных Amazon?"
   ]
  },
  {
   "cell_type": "markdown",
   "metadata": {
    "id": "zKQcJhxui_Qe",
    "pycharm": {
     "name": "#%% md\n"
    }
   },
   "source": [
    "### Ваш ответ"
   ]
  },
  {
   "cell_type": "markdown",
   "metadata": {
    "id": "vSt0oQx9ikGL",
    "pycharm": {
     "name": "#%% md\n"
    }
   },
   "source": [
    "## Заданиие 2 (10 баллов)"
   ]
  },
  {
   "cell_type": "markdown",
   "metadata": {
    "id": "ILJZk0ktiqpc",
    "pycharm": {
     "name": "#%% md\n"
    }
   },
   "source": [
    "Для каждого набора данных постройте график:\n",
    "- Функции подсчета для 50 последовательностей на одном графике, как вы можете объяснить различное поведение? .\n",
    "- Эмпирическую PDF для времени возврата без учета типа события и PDF однородного Пуассона в предположении, что этот набор данных является пуассоновским. Они близки? Какое поведение имеет эмпирическая PDF?\n",
    "- Эмпирическую функция выживания, игнорирующую тип события, и функцию выживания однородного пуассона, предполагающую, что этот набор данных является пуассоновским.\n",
    "- Графики распределения типов событий.\n",
    "\n",
    "_Примечание: реальные данные могут иметь выбросы, которые могут снизить качество ваших графиков. Вы должны отфильтровать их, если они у вас есть._"
   ]
  },
  {
   "cell_type": "markdown",
   "metadata": {
    "id": "VfMA-R0lnFz_",
    "pycharm": {
     "name": "#%% md\n"
    }
   },
   "source": [
    "### Ваше решение"
   ]
  }
 ],
 "metadata": {
  "colab": {
   "provenance": []
  },
  "kernelspec": {
   "display_name": "Python 3 (ipykernel)",
   "language": "python",
   "name": "python3"
  },
  "language_info": {
   "codemirror_mode": {
    "name": "ipython",
    "version": 3
   },
   "file_extension": ".py",
   "mimetype": "text/x-python",
   "name": "python",
   "nbconvert_exporter": "python",
   "pygments_lexer": "ipython3",
   "version": "3.9.7"
  }
 },
 "nbformat": 4,
 "nbformat_minor": 1
}